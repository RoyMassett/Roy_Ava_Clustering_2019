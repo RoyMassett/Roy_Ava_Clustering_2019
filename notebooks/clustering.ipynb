{
 "cells": [
  {
   "cell_type": "markdown",
   "metadata": {
    "colab_type": "text",
    "id": "view-in-github"
   },
   "source": [
    "<a href=\"https://colab.research.google.com/github/RoyMassett/Roy_Ava_Clustering_2019/blob/master/notebooks/clustering.ipynb\" target=\"_parent\"><img src=\"https://colab.research.google.com/assets/colab-badge.svg\" alt=\"Open In Colab\"/></a>"
   ]
  },
  {
   "cell_type": "markdown",
   "metadata": {
    "colab": {},
    "colab_type": "code",
    "id": "su3hL3Cfx5oA"
   },
   "source": [
    "# Loading OASIS data and clustering"
   ]
  },
  {
   "cell_type": "markdown",
   "metadata": {},
   "source": [
    "### Importing libraries"
   ]
  },
  {
   "cell_type": "code",
   "execution_count": 2,
   "metadata": {},
   "outputs": [],
   "source": [
    "import pandas as pd\n",
    "import numpy as np\n",
    "import matplotlib.pyplot as plt"
   ]
  },
  {
   "cell_type": "markdown",
   "metadata": {},
   "source": [
    "### Load dataset as pandas dataframe"
   ]
  },
  {
   "cell_type": "code",
   "execution_count": 6,
   "metadata": {},
   "outputs": [
    {
     "data": {
      "text/html": [
       "<div>\n",
       "<style scoped>\n",
       "    .dataframe tbody tr th:only-of-type {\n",
       "        vertical-align: middle;\n",
       "    }\n",
       "\n",
       "    .dataframe tbody tr th {\n",
       "        vertical-align: top;\n",
       "    }\n",
       "\n",
       "    .dataframe thead th {\n",
       "        text-align: right;\n",
       "    }\n",
       "</style>\n",
       "<table border=\"1\" class=\"dataframe\">\n",
       "  <thead>\n",
       "    <tr style=\"text-align: right;\">\n",
       "      <th></th>\n",
       "      <th>Subject</th>\n",
       "      <th>M/F</th>\n",
       "      <th>Hand</th>\n",
       "      <th>YOB</th>\n",
       "      <th>UDS A1: Sub Demos</th>\n",
       "      <th>UDS B6: GDS</th>\n",
       "      <th>UDS B8: Phys. Neuro Findings</th>\n",
       "      <th>Psych Assessments</th>\n",
       "      <th>UDS A2: Informant Demos</th>\n",
       "      <th>UDS B7: FAQs</th>\n",
       "      <th>UDS D1: Clinician Diagnosis</th>\n",
       "      <th>UDS A5: Sub Health Hist.</th>\n",
       "      <th>UDS B2: HIS and CVD</th>\n",
       "      <th>UDS A3: Partcpt Family Hist.</th>\n",
       "      <th>PETs</th>\n",
       "      <th>UDS B3: UPDRS</th>\n",
       "      <th>MR Sessions</th>\n",
       "      <th>UDS B9: Clin. Judgements</th>\n",
       "      <th>ADRC Clinical Data</th>\n",
       "      <th>UDS B5: NPI-Q</th>\n",
       "    </tr>\n",
       "  </thead>\n",
       "  <tbody>\n",
       "    <tr>\n",
       "      <th>0</th>\n",
       "      <td>OAS30001</td>\n",
       "      <td>F</td>\n",
       "      <td>R</td>\n",
       "      <td>NaN</td>\n",
       "      <td>9.0</td>\n",
       "      <td>9.0</td>\n",
       "      <td>9.0</td>\n",
       "      <td>9.0</td>\n",
       "      <td>9.0</td>\n",
       "      <td>9.0</td>\n",
       "      <td>9.0</td>\n",
       "      <td>9.0</td>\n",
       "      <td>9.0</td>\n",
       "      <td>9.0</td>\n",
       "      <td>7.0</td>\n",
       "      <td>9.0</td>\n",
       "      <td>4</td>\n",
       "      <td>9.0</td>\n",
       "      <td>12</td>\n",
       "      <td>9.0</td>\n",
       "    </tr>\n",
       "    <tr>\n",
       "      <th>1</th>\n",
       "      <td>OAS30002</td>\n",
       "      <td>M</td>\n",
       "      <td>R</td>\n",
       "      <td>NaN</td>\n",
       "      <td>8.0</td>\n",
       "      <td>8.0</td>\n",
       "      <td>8.0</td>\n",
       "      <td>7.0</td>\n",
       "      <td>8.0</td>\n",
       "      <td>8.0</td>\n",
       "      <td>8.0</td>\n",
       "      <td>8.0</td>\n",
       "      <td>8.0</td>\n",
       "      <td>8.0</td>\n",
       "      <td>3.0</td>\n",
       "      <td>8.0</td>\n",
       "      <td>4</td>\n",
       "      <td>8.0</td>\n",
       "      <td>8</td>\n",
       "      <td>8.0</td>\n",
       "    </tr>\n",
       "    <tr>\n",
       "      <th>2</th>\n",
       "      <td>OAS30003</td>\n",
       "      <td>F</td>\n",
       "      <td>R</td>\n",
       "      <td>NaN</td>\n",
       "      <td>6.0</td>\n",
       "      <td>6.0</td>\n",
       "      <td>6.0</td>\n",
       "      <td>NaN</td>\n",
       "      <td>6.0</td>\n",
       "      <td>6.0</td>\n",
       "      <td>6.0</td>\n",
       "      <td>6.0</td>\n",
       "      <td>6.0</td>\n",
       "      <td>6.0</td>\n",
       "      <td>5.0</td>\n",
       "      <td>6.0</td>\n",
       "      <td>6</td>\n",
       "      <td>6.0</td>\n",
       "      <td>8</td>\n",
       "      <td>6.0</td>\n",
       "    </tr>\n",
       "    <tr>\n",
       "      <th>3</th>\n",
       "      <td>OAS30004</td>\n",
       "      <td>F</td>\n",
       "      <td>L</td>\n",
       "      <td>NaN</td>\n",
       "      <td>3.0</td>\n",
       "      <td>3.0</td>\n",
       "      <td>3.0</td>\n",
       "      <td>NaN</td>\n",
       "      <td>3.0</td>\n",
       "      <td>3.0</td>\n",
       "      <td>3.0</td>\n",
       "      <td>3.0</td>\n",
       "      <td>3.0</td>\n",
       "      <td>3.0</td>\n",
       "      <td>4.0</td>\n",
       "      <td>3.0</td>\n",
       "      <td>4</td>\n",
       "      <td>3.0</td>\n",
       "      <td>4</td>\n",
       "      <td>3.0</td>\n",
       "    </tr>\n",
       "    <tr>\n",
       "      <th>4</th>\n",
       "      <td>OAS30005</td>\n",
       "      <td>F</td>\n",
       "      <td>R</td>\n",
       "      <td>NaN</td>\n",
       "      <td>3.0</td>\n",
       "      <td>3.0</td>\n",
       "      <td>3.0</td>\n",
       "      <td>NaN</td>\n",
       "      <td>3.0</td>\n",
       "      <td>3.0</td>\n",
       "      <td>3.0</td>\n",
       "      <td>3.0</td>\n",
       "      <td>3.0</td>\n",
       "      <td>3.0</td>\n",
       "      <td>5.0</td>\n",
       "      <td>3.0</td>\n",
       "      <td>6</td>\n",
       "      <td>3.0</td>\n",
       "      <td>4</td>\n",
       "      <td>3.0</td>\n",
       "    </tr>\n",
       "  </tbody>\n",
       "</table>\n",
       "</div>"
      ],
      "text/plain": [
       "    Subject M/F Hand  YOB  UDS A1: Sub Demos  UDS B6: GDS  \\\n",
       "0  OAS30001   F    R  NaN                9.0          9.0   \n",
       "1  OAS30002   M    R  NaN                8.0          8.0   \n",
       "2  OAS30003   F    R  NaN                6.0          6.0   \n",
       "3  OAS30004   F    L  NaN                3.0          3.0   \n",
       "4  OAS30005   F    R  NaN                3.0          3.0   \n",
       "\n",
       "   UDS B8: Phys. Neuro Findings  Psych Assessments  UDS A2: Informant Demos  \\\n",
       "0                           9.0                9.0                      9.0   \n",
       "1                           8.0                7.0                      8.0   \n",
       "2                           6.0                NaN                      6.0   \n",
       "3                           3.0                NaN                      3.0   \n",
       "4                           3.0                NaN                      3.0   \n",
       "\n",
       "   UDS B7: FAQs  UDS D1: Clinician Diagnosis  UDS A5: Sub Health Hist.  \\\n",
       "0           9.0                          9.0                       9.0   \n",
       "1           8.0                          8.0                       8.0   \n",
       "2           6.0                          6.0                       6.0   \n",
       "3           3.0                          3.0                       3.0   \n",
       "4           3.0                          3.0                       3.0   \n",
       "\n",
       "   UDS B2: HIS and CVD  UDS A3: Partcpt Family Hist.  PETs  UDS B3: UPDRS  \\\n",
       "0                  9.0                           9.0   7.0            9.0   \n",
       "1                  8.0                           8.0   3.0            8.0   \n",
       "2                  6.0                           6.0   5.0            6.0   \n",
       "3                  3.0                           3.0   4.0            3.0   \n",
       "4                  3.0                           3.0   5.0            3.0   \n",
       "\n",
       "   MR Sessions  UDS B9: Clin. Judgements  ADRC Clinical Data  UDS B5: NPI-Q  \n",
       "0            4                       9.0                  12            9.0  \n",
       "1            4                       8.0                   8            8.0  \n",
       "2            6                       6.0                   8            6.0  \n",
       "3            4                       3.0                   4            3.0  \n",
       "4            6                       3.0                   4            3.0  "
      ]
     },
     "execution_count": 6,
     "metadata": {},
     "output_type": "execute_result"
    }
   ],
   "source": [
    "OASIS = pd.read_csv('../datasets/OASIS.csv')\n",
    "OASIS.head()"
   ]
  },
  {
   "cell_type": "markdown",
   "metadata": {},
   "source": [
    "### Play with dataset"
   ]
  },
  {
   "cell_type": "code",
   "execution_count": 12,
   "metadata": {},
   "outputs": [
    {
     "data": {
      "text/plain": [
       "(0, 10)"
      ]
     },
     "execution_count": 12,
     "metadata": {},
     "output_type": "execute_result"
    },
    {
     "data": {
      "image/png": "[encoded data removed]",
      "text/plain": [
       "<Figure size 432x288 with 1 Axes>"
      ]
     },
     "metadata": {
      "needs_background": "light"
     },
     "output_type": "display_data"
    }
   ],
   "source": [
    "plt.title('Histogram of psych assessments')\n",
    "plt.xlabel('psych score')\n",
    "plt.ylabel('count')\n",
    "plt.hist(OASIS['Psych Assessments'].fillna(-1))\n",
    "plt.xlim([0,10])"
   ]
  },
  {
   "cell_type": "code",
   "execution_count": null,
   "metadata": {},
   "outputs": [],
   "source": []
  }
 ],
 "metadata": {
  "colab": {
   "include_colab_link": true,
   "name": "Untitled1.ipynb",
   "provenance": [],
   "version": "0.3.2"
  },
  "kernelspec": {
   "display_name": "py36-brain",
   "language": "python",
   "name": "py36-brain"
  },
  "language_info": {
   "codemirror_mode": {
    "name": "ipython",
    "version": 3
   },
   "file_extension": ".py",
   "mimetype": "text/x-python",
   "name": "python",
   "nbconvert_exporter": "python",
   "pygments_lexer": "ipython3",
   "version": "3.6.5"
  }
 },
 "nbformat": 4,
 "nbformat_minor": 2
}
